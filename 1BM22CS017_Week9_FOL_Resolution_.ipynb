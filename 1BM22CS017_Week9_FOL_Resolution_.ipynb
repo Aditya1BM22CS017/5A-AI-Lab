{
  "nbformat": 4,
  "nbformat_minor": 0,
  "metadata": {
    "colab": {
      "provenance": []
    },
    "kernelspec": {
      "name": "python3",
      "display_name": "Python 3"
    },
    "language_info": {
      "name": "python"
    }
  },
  "cells": [
    {
      "cell_type": "code",
      "execution_count": 7,
      "metadata": {
        "colab": {
          "base_uri": "https://localhost:8080/"
        },
        "id": "KwxUNUlZtdhV",
        "outputId": "e6ebcc3a-7aed-495e-8b62-3a731c9e847a"
      },
      "outputs": [
        {
          "output_type": "stream",
          "name": "stdout",
          "text": [
            "Proven: Leela is older than Oshin.\n",
            "\n",
            "\n",
            "Aditya Dinesh Netrakar\n",
            "USN: 1BM22CS017\n"
          ]
        }
      ],
      "source": [
        "from itertools import combinations\n",
        "\n",
        "def unify(x, y, theta={}):\n",
        "    \"\"\"Unify two predicates using a substitution (theta).\"\"\"\n",
        "    if theta is None:\n",
        "        return None\n",
        "    elif x == y:\n",
        "        return theta\n",
        "    elif isinstance(x, str) and x.islower():\n",
        "        return unify_var(x, y, theta)\n",
        "    elif isinstance(y, str) and y.islower():\n",
        "        return unify_var(y, x, theta)\n",
        "    elif isinstance(x, tuple) and isinstance(y, tuple) and len(x) == len(y):\n",
        "        return unify(x[1:], y[1:], unify(x[0], y[0], theta))\n",
        "    else:\n",
        "        return None\n",
        "\n",
        "def unify_var(var, x, theta):\n",
        "    \"\"\"Unify variable.\"\"\"\n",
        "    if var in theta:\n",
        "        return unify(theta[var], x, theta)\n",
        "    elif x in theta:\n",
        "        return unify(var, theta[x], theta)\n",
        "    else:\n",
        "        theta[var] = x\n",
        "        return theta\n",
        "\n",
        "def resolve(clause1, clause2):\n",
        "    \"\"\"Resolve two clauses and return the resolvents.\"\"\"\n",
        "    resolvents = []\n",
        "    for predicate1 in clause1:\n",
        "        for predicate2 in clause2:\n",
        "            theta = unify(predicate1, negate(predicate2))\n",
        "            if theta is not None:\n",
        "                new_clause = (substitute(clause1, theta) | substitute(clause2, theta)) - {predicate1, predicate2}\n",
        "                resolvents.append(frozenset(new_clause))\n",
        "    return resolvents\n",
        "\n",
        "def negate(predicate):\n",
        "    \"\"\"Negate a predicate.\"\"\"\n",
        "    return ('not', predicate) if isinstance(predicate, str) else predicate[1]\n",
        "\n",
        "def substitute(clause, theta):\n",
        "    \"\"\"Apply substitutions to a clause.\"\"\"\n",
        "    return {substitute_predicate(p, theta) for p in clause}\n",
        "\n",
        "def substitute_predicate(predicate, theta):\n",
        "    \"\"\"Apply substitution to a single predicate.\"\"\"\n",
        "    if isinstance(predicate, str):\n",
        "        return theta.get(predicate, predicate)\n",
        "    else:\n",
        "        return (predicate[0],) + tuple(theta.get(arg, arg) for arg in predicate[1:])\n",
        "\n",
        "def resolution(kb, query):\n",
        "    \"\"\"Perform resolution to prove the query.\"\"\"\n",
        "    negated_query = frozenset({negate(query)})\n",
        "    clauses = kb | {negated_query}\n",
        "    new_clauses = set()\n",
        "\n",
        "    while True:\n",
        "        for clause1, clause2 in combinations(clauses, 2):\n",
        "            resolvents = resolve(clause1, clause2)\n",
        "            if frozenset() in resolvents:\n",
        "                return True\n",
        "            new_clauses.update(resolvents)\n",
        "        if new_clauses.issubset(clauses):\n",
        "            return False\n",
        "        clauses |= new_clauses\n",
        "\n",
        "# Knowledge Base (in CNF)\n",
        "kb = {\n",
        "    frozenset({('Mother', 'leela', 'Oshin')}),  # Leela is mother of Oshin\n",
        "    frozenset({('Alive', 'leela')}),                     # Leela is alive\n",
        "    frozenset({('not', ('Mother','x','y')),('Parent','x','y')}),    # Every Mother will be a parent\n",
        "    frozenset({('not',('Parent','x','y')),('not',('Alive','x')),('Older','x','y')}),  # If a parent is alive then the parent is older than its child\n",
        "}\n",
        "\n",
        "# Query: Prove Leela is older than Oshin\n",
        "query = ('Older', 'leela', 'Oshin')\n",
        "\n",
        "# Run resolution\n",
        "result = resolution(kb, query)\n",
        "if result:\n",
        "    print(\"Proven: Leela is older than Oshin.\")\n",
        "else:\n",
        "    print(\"Cannot prove: Leela is older than Oshin.\")\n",
        "\n",
        "print(\"\\n\\nAditya Dinesh Netrakar\")\n",
        "print(\"USN: 1BM22CS017\")"
      ]
    },
    {
      "cell_type": "code",
      "source": [],
      "metadata": {
        "id": "HLzetdVluEYj"
      },
      "execution_count": null,
      "outputs": []
    }
  ]
}